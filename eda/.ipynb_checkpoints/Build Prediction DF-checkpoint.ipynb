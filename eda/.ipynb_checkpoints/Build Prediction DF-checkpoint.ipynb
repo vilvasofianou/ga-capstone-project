{
 "cells": [
  {
   "cell_type": "code",
   "execution_count": 1,
   "metadata": {},
   "outputs": [],
   "source": [
    "import pandas as pd\n",
    "import numpy as np\n",
    "import os\n",
    "import glob\n",
    "import matplotlib.pyplot as plt\n",
    "from scipy.signal import savgol_filter\n",
    "import pandas as pd\n",
    "import numpy as np\n",
    "import matplotlib.pyplot as plt\n",
    "import seaborn as sns\n",
    "\n",
    "plt.rcParams[\"figure.figsize\"] = (6, 4)\n",
    "plt.rcParams[\"font.size\"] = 14\n",
    "import pgeocode\n",
    "\n",
    "plt.style.use(\"ggplot\")\n",
    "sns.set(font_scale=1.5)\n",
    "%config InlineBackend.figure_format = 'retina'\n",
    "%matplotlib inline\n",
    "import scipy.stats as stats\n",
    "\n",
    "# from pygeocoder import Geocoder\n",
    "from pandas.api.types import CategoricalDtype\n",
    "from sklearn.linear_model import LinearRegression, Ridge, Lasso, RidgeCV, LassoCV\n",
    "from sklearn.model_selection import train_test_split, cross_val_score, cross_val_predict\n",
    "from sklearn.metrics import r2_score, mean_squared_error\n",
    "from sklearn.model_selection import KFold\n",
    "from sklearn.model_selection import StratifiedKFold, cross_val_score\n",
    "from sklearn.neighbors import KNeighborsClassifier\n",
    "from sklearn.model_selection import GridSearchCV\n",
    "\n",
    "from sklearn.preprocessing import StandardScaler, RobustScaler, MinMaxScaler"
   ]
  },
  {
   "cell_type": "code",
   "execution_count": 2,
   "metadata": {},
   "outputs": [],
   "source": [
    "austin = pd.read_pickle(\"../pickled_data/austin_all.pickled\")\n",
    "sanfran = pd.read_pickle(\"../pickled_data/sf_all_df.pickled\")\n",
    "# LA = pd.read_pickle(\"../pickled_data/LA_new_df.pickled\")\n",
    "# chicago = pd.read_pickle(\"../pickled_data/chicago_trips_df.pickled\")\n",
    "london = pd.read_pickle(\"../pickled_data/london_counts_df.pickled\")\n",
    "DC = pd.read_pickle(\"../pickled_data/DC_df.pickled\")"
   ]
  },
  {
   "cell_type": "code",
   "execution_count": 3,
   "metadata": {},
   "outputs": [
    {
     "data": {
      "text/plain": [
       "Index(['id', 'duration', 'start_date', 'start_station_name',\n",
       "       'start_station_id', 'end_date', 'end_station_name', 'end_station_id',\n",
       "       'bike_id', 'subscription_type', 'date', 'Start_Day', 'End_Day', 'Month',\n",
       "       'is_workday', 'max_temperature_f', 'mean_temperature_f',\n",
       "       'min_temperature_f', 'max_dew_point_f', 'mean_dew_point_f',\n",
       "       'min_dew_point_f', 'max_humidity', 'mean_humidity', 'min_humidity',\n",
       "       'max_sea_level_pressure_inches', 'mean_sea_level_pressure_inches',\n",
       "       'min_sea_level_pressure_inches', 'max_visibility_miles',\n",
       "       'mean_visibility_miles', 'min_visibility_miles', 'max_wind_Speed_mph',\n",
       "       'mean_wind_speed_mph', 'cloud_cover', 'wind_dir_degrees', 'zip_code',\n",
       "       'mean_temperature_c', 'mean_dew_point_c', 'mean_visibility_km',\n",
       "       'mean_wind_speed_kmh', 'mean_humidity_binary'],\n",
       "      dtype='object')"
      ]
     },
     "execution_count": 3,
     "metadata": {},
     "output_type": "execute_result"
    }
   ],
   "source": [
    "sanfran.columns"
   ]
  },
  {
   "cell_type": "code",
   "execution_count": 4,
   "metadata": {},
   "outputs": [],
   "source": [
    "std_scaler = StandardScaler()\n",
    "rob_scaler = RobustScaler()\n",
    "mm_scaler = MinMaxScaler()"
   ]
  },
  {
   "cell_type": "markdown",
   "metadata": {},
   "source": [
    "## Austin"
   ]
  },
  {
   "cell_type": "code",
   "execution_count": 5,
   "metadata": {
    "scrolled": false
   },
   "outputs": [
    {
     "data": {
      "text/html": [
       "<div>\n",
       "<style scoped>\n",
       "    .dataframe tbody tr th:only-of-type {\n",
       "        vertical-align: middle;\n",
       "    }\n",
       "\n",
       "    .dataframe tbody tr th {\n",
       "        vertical-align: top;\n",
       "    }\n",
       "\n",
       "    .dataframe thead th {\n",
       "        text-align: right;\n",
       "    }\n",
       "</style>\n",
       "<table border=\"1\" class=\"dataframe\">\n",
       "  <thead>\n",
       "    <tr style=\"text-align: right;\">\n",
       "      <th></th>\n",
       "      <th>temp</th>\n",
       "      <th>hum</th>\n",
       "      <th>wind</th>\n",
       "      <th>is_workday</th>\n",
       "      <th>count</th>\n",
       "      <th>mm_normalised_count</th>\n",
       "      <th>robust_normalised_count</th>\n",
       "      <th>std_normalised_count</th>\n",
       "    </tr>\n",
       "    <tr>\n",
       "      <th>dateasdatetime</th>\n",
       "      <th></th>\n",
       "      <th></th>\n",
       "      <th></th>\n",
       "      <th></th>\n",
       "      <th></th>\n",
       "      <th></th>\n",
       "      <th></th>\n",
       "      <th></th>\n",
       "    </tr>\n",
       "  </thead>\n",
       "  <tbody>\n",
       "    <tr>\n",
       "      <th>2013-12-21</th>\n",
       "      <td>15.555556</td>\n",
       "      <td>75.0</td>\n",
       "      <td>6.436</td>\n",
       "      <td>0</td>\n",
       "      <td>103</td>\n",
       "      <td>0.028971</td>\n",
       "      <td>-1.136364</td>\n",
       "      <td>-1.105853</td>\n",
       "    </tr>\n",
       "    <tr>\n",
       "      <th>2013-12-22</th>\n",
       "      <td>8.888889</td>\n",
       "      <td>68.0</td>\n",
       "      <td>9.654</td>\n",
       "      <td>0</td>\n",
       "      <td>117</td>\n",
       "      <td>0.033633</td>\n",
       "      <td>-1.087413</td>\n",
       "      <td>-1.068208</td>\n",
       "    </tr>\n",
       "    <tr>\n",
       "      <th>2013-12-23</th>\n",
       "      <td>7.222222</td>\n",
       "      <td>52.0</td>\n",
       "      <td>4.827</td>\n",
       "      <td>1</td>\n",
       "      <td>96</td>\n",
       "      <td>0.026640</td>\n",
       "      <td>-1.160839</td>\n",
       "      <td>-1.124675</td>\n",
       "    </tr>\n",
       "    <tr>\n",
       "      <th>2013-12-24</th>\n",
       "      <td>7.777778</td>\n",
       "      <td>56.0</td>\n",
       "      <td>6.436</td>\n",
       "      <td>1</td>\n",
       "      <td>85</td>\n",
       "      <td>0.022977</td>\n",
       "      <td>-1.199301</td>\n",
       "      <td>-1.154253</td>\n",
       "    </tr>\n",
       "    <tr>\n",
       "      <th>2013-12-25</th>\n",
       "      <td>10.000000</td>\n",
       "      <td>71.0</td>\n",
       "      <td>3.218</td>\n",
       "      <td>0</td>\n",
       "      <td>145</td>\n",
       "      <td>0.042957</td>\n",
       "      <td>-0.989510</td>\n",
       "      <td>-0.992919</td>\n",
       "    </tr>\n",
       "  </tbody>\n",
       "</table>\n",
       "</div>"
      ],
      "text/plain": [
       "                     temp   hum   wind  is_workday  count  \\\n",
       "dateasdatetime                                              \n",
       "2013-12-21      15.555556  75.0  6.436           0    103   \n",
       "2013-12-22       8.888889  68.0  9.654           0    117   \n",
       "2013-12-23       7.222222  52.0  4.827           1     96   \n",
       "2013-12-24       7.777778  56.0  6.436           1     85   \n",
       "2013-12-25      10.000000  71.0  3.218           0    145   \n",
       "\n",
       "                mm_normalised_count  robust_normalised_count  \\\n",
       "dateasdatetime                                                 \n",
       "2013-12-21                 0.028971                -1.136364   \n",
       "2013-12-22                 0.033633                -1.087413   \n",
       "2013-12-23                 0.026640                -1.160839   \n",
       "2013-12-24                 0.022977                -1.199301   \n",
       "2013-12-25                 0.042957                -0.989510   \n",
       "\n",
       "                std_normalised_count  \n",
       "dateasdatetime                        \n",
       "2013-12-21                 -1.105853  \n",
       "2013-12-22                 -1.068208  \n",
       "2013-12-23                 -1.124675  \n",
       "2013-12-24                 -1.154253  \n",
       "2013-12-25                 -0.992919  "
      ]
     },
     "execution_count": 5,
     "metadata": {},
     "output_type": "execute_result"
    }
   ],
   "source": [
    "def to_float(string):\n",
    "    try:\n",
    "        return float(string)\n",
    "    except:\n",
    "        return np.nan\n",
    "\n",
    "\n",
    "austin_f = austin[\n",
    "    [\"TempAvgC\", \"HumidityAvgPercent\", \"WindAvgKmH\", \"is_workday\", \"dateasdatetime\"]\n",
    "]\n",
    "austin_per_day = austin_f.groupby(\"dateasdatetime\").mean()\n",
    "austin_per_day[\"count\"] = austin_f.dateasdatetime.value_counts()\n",
    "\n",
    "austin_per_day[\"mm_normalised_count\"] = mm_scaler.fit_transform(austin_per_day[['count']])\n",
    "austin_per_day[\"robust_normalised_count\"] = rob_scaler.fit_transform(austin_per_day[['count']])\n",
    "austin_per_day[\"std_normalised_count\"] = std_scaler.fit_transform(austin_per_day[['count']])\n",
    "austin_per_day.rename(\n",
    "    columns={\"TempAvgC\": \"temp\", \"HumidityAvgPercent\": \"hum\", \"WindAvgKmH\": \"wind\"},\n",
    "    inplace=True,\n",
    ")\n",
    "\n",
    "austin_per_day.head()"
   ]
  },
  {
   "cell_type": "code",
   "execution_count": 6,
   "metadata": {
    "scrolled": true
   },
   "outputs": [
    {
     "data": {
      "text/plain": [
       "<matplotlib.axes._subplots.AxesSubplot at 0x107c927f0>"
      ]
     },
     "execution_count": 6,
     "metadata": {},
     "output_type": "execute_result"
    },
    {
     "data": {
      "image/png": "[encoded data removed]",
      "text/plain": [
       "<Figure size 432x288 with 1 Axes>"
      ]
     },
     "metadata": {
      "image/png": {
       "height": 256,
       "width": 387
      },
      "needs_background": "light"
     },
     "output_type": "display_data"
    }
   ],
   "source": [
    "austin_per_day['count'].hist()"
   ]
  },
  {
   "cell_type": "code",
   "execution_count": 7,
   "metadata": {},
   "outputs": [
    {
     "data": {
      "text/html": [
       "<div>\n",
       "<style scoped>\n",
       "    .dataframe tbody tr th:only-of-type {\n",
       "        vertical-align: middle;\n",
       "    }\n",
       "\n",
       "    .dataframe tbody tr th {\n",
       "        vertical-align: top;\n",
       "    }\n",
       "\n",
       "    .dataframe thead th {\n",
       "        text-align: right;\n",
       "    }\n",
       "</style>\n",
       "<table border=\"1\" class=\"dataframe\">\n",
       "  <thead>\n",
       "    <tr style=\"text-align: right;\">\n",
       "      <th></th>\n",
       "      <th>temp</th>\n",
       "      <th>hum</th>\n",
       "      <th>wind</th>\n",
       "      <th>is_workday</th>\n",
       "      <th>count</th>\n",
       "      <th>mm_normalised_count</th>\n",
       "      <th>robust_normalised_count</th>\n",
       "      <th>std_normalised_count</th>\n",
       "    </tr>\n",
       "  </thead>\n",
       "  <tbody>\n",
       "    <tr>\n",
       "      <th>temp</th>\n",
       "      <td>1.000000</td>\n",
       "      <td>0.029538</td>\n",
       "      <td>0.039621</td>\n",
       "      <td>0.036201</td>\n",
       "      <td>0.172339</td>\n",
       "      <td>0.172339</td>\n",
       "      <td>0.172339</td>\n",
       "      <td>0.172339</td>\n",
       "    </tr>\n",
       "    <tr>\n",
       "      <th>hum</th>\n",
       "      <td>0.029538</td>\n",
       "      <td>1.000000</td>\n",
       "      <td>-0.005160</td>\n",
       "      <td>-0.081458</td>\n",
       "      <td>-0.055129</td>\n",
       "      <td>-0.055129</td>\n",
       "      <td>-0.055129</td>\n",
       "      <td>-0.055129</td>\n",
       "    </tr>\n",
       "    <tr>\n",
       "      <th>wind</th>\n",
       "      <td>0.039621</td>\n",
       "      <td>-0.005160</td>\n",
       "      <td>1.000000</td>\n",
       "      <td>0.019336</td>\n",
       "      <td>-0.060519</td>\n",
       "      <td>-0.060519</td>\n",
       "      <td>-0.060519</td>\n",
       "      <td>-0.060519</td>\n",
       "    </tr>\n",
       "    <tr>\n",
       "      <th>is_workday</th>\n",
       "      <td>0.036201</td>\n",
       "      <td>-0.081458</td>\n",
       "      <td>0.019336</td>\n",
       "      <td>1.000000</td>\n",
       "      <td>-0.311814</td>\n",
       "      <td>-0.311814</td>\n",
       "      <td>-0.311814</td>\n",
       "      <td>-0.311814</td>\n",
       "    </tr>\n",
       "    <tr>\n",
       "      <th>count</th>\n",
       "      <td>0.172339</td>\n",
       "      <td>-0.055129</td>\n",
       "      <td>-0.060519</td>\n",
       "      <td>-0.311814</td>\n",
       "      <td>1.000000</td>\n",
       "      <td>1.000000</td>\n",
       "      <td>1.000000</td>\n",
       "      <td>1.000000</td>\n",
       "    </tr>\n",
       "    <tr>\n",
       "      <th>mm_normalised_count</th>\n",
       "      <td>0.172339</td>\n",
       "      <td>-0.055129</td>\n",
       "      <td>-0.060519</td>\n",
       "      <td>-0.311814</td>\n",
       "      <td>1.000000</td>\n",
       "      <td>1.000000</td>\n",
       "      <td>1.000000</td>\n",
       "      <td>1.000000</td>\n",
       "    </tr>\n",
       "    <tr>\n",
       "      <th>robust_normalised_count</th>\n",
       "      <td>0.172339</td>\n",
       "      <td>-0.055129</td>\n",
       "      <td>-0.060519</td>\n",
       "      <td>-0.311814</td>\n",
       "      <td>1.000000</td>\n",
       "      <td>1.000000</td>\n",
       "      <td>1.000000</td>\n",
       "      <td>1.000000</td>\n",
       "    </tr>\n",
       "    <tr>\n",
       "      <th>std_normalised_count</th>\n",
       "      <td>0.172339</td>\n",
       "      <td>-0.055129</td>\n",
       "      <td>-0.060519</td>\n",
       "      <td>-0.311814</td>\n",
       "      <td>1.000000</td>\n",
       "      <td>1.000000</td>\n",
       "      <td>1.000000</td>\n",
       "      <td>1.000000</td>\n",
       "    </tr>\n",
       "  </tbody>\n",
       "</table>\n",
       "</div>"
      ],
      "text/plain": [
       "                             temp       hum      wind  is_workday     count  \\\n",
       "temp                     1.000000  0.029538  0.039621    0.036201  0.172339   \n",
       "hum                      0.029538  1.000000 -0.005160   -0.081458 -0.055129   \n",
       "wind                     0.039621 -0.005160  1.000000    0.019336 -0.060519   \n",
       "is_workday               0.036201 -0.081458  0.019336    1.000000 -0.311814   \n",
       "count                    0.172339 -0.055129 -0.060519   -0.311814  1.000000   \n",
       "mm_normalised_count      0.172339 -0.055129 -0.060519   -0.311814  1.000000   \n",
       "robust_normalised_count  0.172339 -0.055129 -0.060519   -0.311814  1.000000   \n",
       "std_normalised_count     0.172339 -0.055129 -0.060519   -0.311814  1.000000   \n",
       "\n",
       "                         mm_normalised_count  robust_normalised_count  \\\n",
       "temp                                0.172339                 0.172339   \n",
       "hum                                -0.055129                -0.055129   \n",
       "wind                               -0.060519                -0.060519   \n",
       "is_workday                         -0.311814                -0.311814   \n",
       "count                               1.000000                 1.000000   \n",
       "mm_normalised_count                 1.000000                 1.000000   \n",
       "robust_normalised_count             1.000000                 1.000000   \n",
       "std_normalised_count                1.000000                 1.000000   \n",
       "\n",
       "                         std_normalised_count  \n",
       "temp                                 0.172339  \n",
       "hum                                 -0.055129  \n",
       "wind                                -0.060519  \n",
       "is_workday                          -0.311814  \n",
       "count                                1.000000  \n",
       "mm_normalised_count                  1.000000  \n",
       "robust_normalised_count              1.000000  \n",
       "std_normalised_count                 1.000000  "
      ]
     },
     "execution_count": 7,
     "metadata": {},
     "output_type": "execute_result"
    }
   ],
   "source": [
    "austin_per_day.corr()"
   ]
  },
  {
   "cell_type": "code",
   "execution_count": 8,
   "metadata": {},
   "outputs": [
    {
     "data": {
      "text/plain": [
       "435.76566125290026"
      ]
     },
     "execution_count": 8,
     "metadata": {},
     "output_type": "execute_result"
    }
   ],
   "source": [
    "austin_per_day['count'][austin_per_day.is_workday == 1].mean()"
   ]
  },
  {
   "cell_type": "markdown",
   "metadata": {},
   "source": [
    "## SF"
   ]
  },
  {
   "cell_type": "code",
   "execution_count": 9,
   "metadata": {
    "scrolled": true
   },
   "outputs": [
    {
     "data": {
      "text/html": [
       "<div>\n",
       "<style scoped>\n",
       "    .dataframe tbody tr th:only-of-type {\n",
       "        vertical-align: middle;\n",
       "    }\n",
       "\n",
       "    .dataframe tbody tr th {\n",
       "        vertical-align: top;\n",
       "    }\n",
       "\n",
       "    .dataframe thead th {\n",
       "        text-align: right;\n",
       "    }\n",
       "</style>\n",
       "<table border=\"1\" class=\"dataframe\">\n",
       "  <thead>\n",
       "    <tr style=\"text-align: right;\">\n",
       "      <th></th>\n",
       "      <th>temp</th>\n",
       "      <th>hum</th>\n",
       "      <th>wind</th>\n",
       "      <th>is_workday</th>\n",
       "      <th>count</th>\n",
       "      <th>std_normalised_count</th>\n",
       "      <th>mm_normalised_count</th>\n",
       "      <th>robust_normalised_count</th>\n",
       "    </tr>\n",
       "    <tr>\n",
       "      <th>start_date</th>\n",
       "      <th></th>\n",
       "      <th></th>\n",
       "      <th></th>\n",
       "      <th></th>\n",
       "      <th></th>\n",
       "      <th></th>\n",
       "      <th></th>\n",
       "      <th></th>\n",
       "    </tr>\n",
       "  </thead>\n",
       "  <tbody>\n",
       "    <tr>\n",
       "      <th>2013-08-29</th>\n",
       "      <td>21.333333</td>\n",
       "      <td>73.2</td>\n",
       "      <td>11.9066</td>\n",
       "      <td>1</td>\n",
       "      <td>748</td>\n",
       "      <td>-0.412292</td>\n",
       "      <td>0.464808</td>\n",
       "      <td>-0.365644</td>\n",
       "    </tr>\n",
       "    <tr>\n",
       "      <th>2013-08-30</th>\n",
       "      <td>22.777778</td>\n",
       "      <td>68.8</td>\n",
       "      <td>9.0104</td>\n",
       "      <td>1</td>\n",
       "      <td>714</td>\n",
       "      <td>-0.496742</td>\n",
       "      <td>0.441115</td>\n",
       "      <td>-0.407362</td>\n",
       "    </tr>\n",
       "    <tr>\n",
       "      <th>2013-08-31</th>\n",
       "      <td>20.000000</td>\n",
       "      <td>70.8</td>\n",
       "      <td>11.9066</td>\n",
       "      <td>0</td>\n",
       "      <td>640</td>\n",
       "      <td>-0.680545</td>\n",
       "      <td>0.389547</td>\n",
       "      <td>-0.498160</td>\n",
       "    </tr>\n",
       "    <tr>\n",
       "      <th>2013-09-01</th>\n",
       "      <td>21.111111</td>\n",
       "      <td>66.8</td>\n",
       "      <td>11.5848</td>\n",
       "      <td>0</td>\n",
       "      <td>706</td>\n",
       "      <td>-0.516612</td>\n",
       "      <td>0.435540</td>\n",
       "      <td>-0.417178</td>\n",
       "    </tr>\n",
       "    <tr>\n",
       "      <th>2013-09-02</th>\n",
       "      <td>21.555556</td>\n",
       "      <td>74.0</td>\n",
       "      <td>11.9066</td>\n",
       "      <td>1</td>\n",
       "      <td>661</td>\n",
       "      <td>-0.628385</td>\n",
       "      <td>0.404181</td>\n",
       "      <td>-0.472393</td>\n",
       "    </tr>\n",
       "  </tbody>\n",
       "</table>\n",
       "</div>"
      ],
      "text/plain": [
       "                 temp   hum     wind  is_workday  count  std_normalised_count  \\\n",
       "start_date                                                                      \n",
       "2013-08-29  21.333333  73.2  11.9066           1    748             -0.412292   \n",
       "2013-08-30  22.777778  68.8   9.0104           1    714             -0.496742   \n",
       "2013-08-31  20.000000  70.8  11.9066           0    640             -0.680545   \n",
       "2013-09-01  21.111111  66.8  11.5848           0    706             -0.516612   \n",
       "2013-09-02  21.555556  74.0  11.9066           1    661             -0.628385   \n",
       "\n",
       "            mm_normalised_count  robust_normalised_count  \n",
       "start_date                                                \n",
       "2013-08-29             0.464808                -0.365644  \n",
       "2013-08-30             0.441115                -0.407362  \n",
       "2013-08-31             0.389547                -0.498160  \n",
       "2013-09-01             0.435540                -0.417178  \n",
       "2013-09-02             0.404181                -0.472393  "
      ]
     },
     "execution_count": 9,
     "metadata": {},
     "output_type": "execute_result"
    }
   ],
   "source": [
    "sf_f = sanfran[\n",
    "    [\"mean_temperature_c\", \"mean_humidity\", \"mean_wind_speed_kmh\", \"is_workday\"]\n",
    "]\n",
    "sf_per_day = sf_f.groupby([sanfran[\"start_date\"].dt.date]).mean()\n",
    "\n",
    "sf_per_day[\"count\"] = sf_f.groupby([sanfran[\"start_date\"].dt.date]).count()[\n",
    "    \"mean_temperature_c\"\n",
    "]\n",
    "sf_per_day[\"std_normalised_count\"] = std_scaler.fit_transform(sf_per_day[['count']])\n",
    "sf_per_day[\"mm_normalised_count\"] = mm_scaler.fit_transform(sf_per_day[['count']])\n",
    "sf_per_day[\"robust_normalised_count\"] = rob_scaler.fit_transform(sf_per_day[['count']])\n",
    "\n",
    "sf_per_day.rename(\n",
    "    columns={\n",
    "        \"mean_temperature_c\": \"temp\",\n",
    "        \"mean_humidity\": \"hum\",\n",
    "        \"mean_wind_speed_kmh\": \"wind\",\n",
    "    },\n",
    "    inplace=True,\n",
    ")\n",
    "sf_per_day.head()"
   ]
  },
  {
   "cell_type": "code",
   "execution_count": 10,
   "metadata": {},
   "outputs": [
    {
     "data": {
      "text/html": [
       "<div>\n",
       "<style scoped>\n",
       "    .dataframe tbody tr th:only-of-type {\n",
       "        vertical-align: middle;\n",
       "    }\n",
       "\n",
       "    .dataframe tbody tr th {\n",
       "        vertical-align: top;\n",
       "    }\n",
       "\n",
       "    .dataframe thead th {\n",
       "        text-align: right;\n",
       "    }\n",
       "</style>\n",
       "<table border=\"1\" class=\"dataframe\">\n",
       "  <thead>\n",
       "    <tr style=\"text-align: right;\">\n",
       "      <th></th>\n",
       "      <th>temp</th>\n",
       "      <th>hum</th>\n",
       "      <th>wind</th>\n",
       "      <th>is_workday</th>\n",
       "      <th>count</th>\n",
       "      <th>std_normalised_count</th>\n",
       "      <th>mm_normalised_count</th>\n",
       "      <th>robust_normalised_count</th>\n",
       "    </tr>\n",
       "  </thead>\n",
       "  <tbody>\n",
       "    <tr>\n",
       "      <th>temp</th>\n",
       "      <td>1.000000</td>\n",
       "      <td>-0.135934</td>\n",
       "      <td>0.390774</td>\n",
       "      <td>0.036829</td>\n",
       "      <td>0.252210</td>\n",
       "      <td>0.252210</td>\n",
       "      <td>0.252210</td>\n",
       "      <td>0.252210</td>\n",
       "    </tr>\n",
       "    <tr>\n",
       "      <th>hum</th>\n",
       "      <td>-0.135934</td>\n",
       "      <td>1.000000</td>\n",
       "      <td>0.040298</td>\n",
       "      <td>-0.036036</td>\n",
       "      <td>-0.116900</td>\n",
       "      <td>-0.116900</td>\n",
       "      <td>-0.116900</td>\n",
       "      <td>-0.116900</td>\n",
       "    </tr>\n",
       "    <tr>\n",
       "      <th>wind</th>\n",
       "      <td>0.390774</td>\n",
       "      <td>0.040298</td>\n",
       "      <td>1.000000</td>\n",
       "      <td>0.036688</td>\n",
       "      <td>0.061293</td>\n",
       "      <td>0.061293</td>\n",
       "      <td>0.061293</td>\n",
       "      <td>0.061293</td>\n",
       "    </tr>\n",
       "    <tr>\n",
       "      <th>is_workday</th>\n",
       "      <td>0.036829</td>\n",
       "      <td>-0.036036</td>\n",
       "      <td>0.036688</td>\n",
       "      <td>1.000000</td>\n",
       "      <td>0.849128</td>\n",
       "      <td>0.849128</td>\n",
       "      <td>0.849128</td>\n",
       "      <td>0.849128</td>\n",
       "    </tr>\n",
       "    <tr>\n",
       "      <th>count</th>\n",
       "      <td>0.252210</td>\n",
       "      <td>-0.116900</td>\n",
       "      <td>0.061293</td>\n",
       "      <td>0.849128</td>\n",
       "      <td>1.000000</td>\n",
       "      <td>1.000000</td>\n",
       "      <td>1.000000</td>\n",
       "      <td>1.000000</td>\n",
       "    </tr>\n",
       "    <tr>\n",
       "      <th>std_normalised_count</th>\n",
       "      <td>0.252210</td>\n",
       "      <td>-0.116900</td>\n",
       "      <td>0.061293</td>\n",
       "      <td>0.849128</td>\n",
       "      <td>1.000000</td>\n",
       "      <td>1.000000</td>\n",
       "      <td>1.000000</td>\n",
       "      <td>1.000000</td>\n",
       "    </tr>\n",
       "    <tr>\n",
       "      <th>mm_normalised_count</th>\n",
       "      <td>0.252210</td>\n",
       "      <td>-0.116900</td>\n",
       "      <td>0.061293</td>\n",
       "      <td>0.849128</td>\n",
       "      <td>1.000000</td>\n",
       "      <td>1.000000</td>\n",
       "      <td>1.000000</td>\n",
       "      <td>1.000000</td>\n",
       "    </tr>\n",
       "    <tr>\n",
       "      <th>robust_normalised_count</th>\n",
       "      <td>0.252210</td>\n",
       "      <td>-0.116900</td>\n",
       "      <td>0.061293</td>\n",
       "      <td>0.849128</td>\n",
       "      <td>1.000000</td>\n",
       "      <td>1.000000</td>\n",
       "      <td>1.000000</td>\n",
       "      <td>1.000000</td>\n",
       "    </tr>\n",
       "  </tbody>\n",
       "</table>\n",
       "</div>"
      ],
      "text/plain": [
       "                             temp       hum      wind  is_workday     count  \\\n",
       "temp                     1.000000 -0.135934  0.390774    0.036829  0.252210   \n",
       "hum                     -0.135934  1.000000  0.040298   -0.036036 -0.116900   \n",
       "wind                     0.390774  0.040298  1.000000    0.036688  0.061293   \n",
       "is_workday               0.036829 -0.036036  0.036688    1.000000  0.849128   \n",
       "count                    0.252210 -0.116900  0.061293    0.849128  1.000000   \n",
       "std_normalised_count     0.252210 -0.116900  0.061293    0.849128  1.000000   \n",
       "mm_normalised_count      0.252210 -0.116900  0.061293    0.849128  1.000000   \n",
       "robust_normalised_count  0.252210 -0.116900  0.061293    0.849128  1.000000   \n",
       "\n",
       "                         std_normalised_count  mm_normalised_count  \\\n",
       "temp                                 0.252210             0.252210   \n",
       "hum                                 -0.116900            -0.116900   \n",
       "wind                                 0.061293             0.061293   \n",
       "is_workday                           0.849128             0.849128   \n",
       "count                                1.000000             1.000000   \n",
       "std_normalised_count                 1.000000             1.000000   \n",
       "mm_normalised_count                  1.000000             1.000000   \n",
       "robust_normalised_count              1.000000             1.000000   \n",
       "\n",
       "                         robust_normalised_count  \n",
       "temp                                    0.252210  \n",
       "hum                                    -0.116900  \n",
       "wind                                    0.061293  \n",
       "is_workday                              0.849128  \n",
       "count                                   1.000000  \n",
       "std_normalised_count                    1.000000  \n",
       "mm_normalised_count                     1.000000  \n",
       "robust_normalised_count                 1.000000  "
      ]
     },
     "execution_count": 10,
     "metadata": {},
     "output_type": "execute_result"
    }
   ],
   "source": [
    "sf_per_day.corr()"
   ]
  },
  {
   "cell_type": "code",
   "execution_count": 11,
   "metadata": {},
   "outputs": [
    {
     "data": {
      "text/plain": [
       "405.2105263157895"
      ]
     },
     "execution_count": 11,
     "metadata": {},
     "output_type": "execute_result"
    }
   ],
   "source": [
    "sf_per_day['count'][sf_per_day.is_workday == 0].mean()"
   ]
  },
  {
   "cell_type": "markdown",
   "metadata": {},
   "source": [
    "## London"
   ]
  },
  {
   "cell_type": "code",
   "execution_count": 12,
   "metadata": {},
   "outputs": [
    {
     "data": {
      "text/html": [
       "<div>\n",
       "<style scoped>\n",
       "    .dataframe tbody tr th:only-of-type {\n",
       "        vertical-align: middle;\n",
       "    }\n",
       "\n",
       "    .dataframe tbody tr th {\n",
       "        vertical-align: top;\n",
       "    }\n",
       "\n",
       "    .dataframe thead th {\n",
       "        text-align: right;\n",
       "    }\n",
       "</style>\n",
       "<table border=\"1\" class=\"dataframe\">\n",
       "  <thead>\n",
       "    <tr style=\"text-align: right;\">\n",
       "      <th></th>\n",
       "      <th>temp</th>\n",
       "      <th>hum</th>\n",
       "      <th>wind</th>\n",
       "      <th>is_workday</th>\n",
       "      <th>count</th>\n",
       "      <th>std_normalised_count</th>\n",
       "      <th>mm_normalised_count</th>\n",
       "      <th>robust_normalised_count</th>\n",
       "    </tr>\n",
       "    <tr>\n",
       "      <th>timestamp</th>\n",
       "      <th></th>\n",
       "      <th></th>\n",
       "      <th></th>\n",
       "      <th></th>\n",
       "      <th></th>\n",
       "      <th></th>\n",
       "      <th></th>\n",
       "      <th></th>\n",
       "    </tr>\n",
       "  </thead>\n",
       "  <tbody>\n",
       "    <tr>\n",
       "      <th>2015-01-04</th>\n",
       "      <td>2.479167</td>\n",
       "      <td>94.270833</td>\n",
       "      <td>7.500000</td>\n",
       "      <td>0.0</td>\n",
       "      <td>9234</td>\n",
       "      <td>-2.096590</td>\n",
       "      <td>0.064538</td>\n",
       "      <td>-1.547148</td>\n",
       "    </tr>\n",
       "    <tr>\n",
       "      <th>2015-01-05</th>\n",
       "      <td>8.041667</td>\n",
       "      <td>80.312500</td>\n",
       "      <td>8.854167</td>\n",
       "      <td>1.0</td>\n",
       "      <td>20372</td>\n",
       "      <td>-0.801745</td>\n",
       "      <td>0.229216</td>\n",
       "      <td>-0.577825</td>\n",
       "    </tr>\n",
       "    <tr>\n",
       "      <th>2015-01-06</th>\n",
       "      <td>7.854167</td>\n",
       "      <td>78.895833</td>\n",
       "      <td>16.000000</td>\n",
       "      <td>1.0</td>\n",
       "      <td>20613</td>\n",
       "      <td>-0.773728</td>\n",
       "      <td>0.232779</td>\n",
       "      <td>-0.556851</td>\n",
       "    </tr>\n",
       "    <tr>\n",
       "      <th>2015-01-07</th>\n",
       "      <td>7.456522</td>\n",
       "      <td>78.108696</td>\n",
       "      <td>19.760870</td>\n",
       "      <td>1.0</td>\n",
       "      <td>21064</td>\n",
       "      <td>-0.721297</td>\n",
       "      <td>0.239447</td>\n",
       "      <td>-0.517601</td>\n",
       "    </tr>\n",
       "    <tr>\n",
       "      <th>2015-01-08</th>\n",
       "      <td>9.750000</td>\n",
       "      <td>79.312500</td>\n",
       "      <td>20.479167</td>\n",
       "      <td>1.0</td>\n",
       "      <td>15601</td>\n",
       "      <td>-1.356396</td>\n",
       "      <td>0.158675</td>\n",
       "      <td>-0.993038</td>\n",
       "    </tr>\n",
       "  </tbody>\n",
       "</table>\n",
       "</div>"
      ],
      "text/plain": [
       "                temp        hum       wind  is_workday  count  \\\n",
       "timestamp                                                       \n",
       "2015-01-04  2.479167  94.270833   7.500000         0.0   9234   \n",
       "2015-01-05  8.041667  80.312500   8.854167         1.0  20372   \n",
       "2015-01-06  7.854167  78.895833  16.000000         1.0  20613   \n",
       "2015-01-07  7.456522  78.108696  19.760870         1.0  21064   \n",
       "2015-01-08  9.750000  79.312500  20.479167         1.0  15601   \n",
       "\n",
       "            std_normalised_count  mm_normalised_count  robust_normalised_count  \n",
       "timestamp                                                                       \n",
       "2015-01-04             -2.096590             0.064538                -1.547148  \n",
       "2015-01-05             -0.801745             0.229216                -0.577825  \n",
       "2015-01-06             -0.773728             0.232779                -0.556851  \n",
       "2015-01-07             -0.721297             0.239447                -0.517601  \n",
       "2015-01-08             -1.356396             0.158675                -0.993038  "
      ]
     },
     "execution_count": 12,
     "metadata": {},
     "output_type": "execute_result"
    }
   ],
   "source": [
    "london_f = london[[\"t1\", \"hum\", \"wind_speed\", \"is_workday\"]]\n",
    "london_per_day = london_f.groupby([london[\"timestamp\"].dt.date]).mean()\n",
    "london_per_day[\"count\"] = (\n",
    "    london[\"cnt\"].groupby([london[\"timestamp\"].dt.date]).sum()\n",
    ")\n",
    "london_per_day.rename(columns={\"t1\": \"temp\", \"wind_speed\": \"wind\"}, inplace=True)\n",
    "london_per_day[\"std_normalised_count\"] = std_scaler.fit_transform(\n",
    "    london_per_day[[\"count\"]]\n",
    ")\n",
    "london_per_day[\"mm_normalised_count\"] = mm_scaler.fit_transform(london_per_day[['count']])\n",
    "london_per_day[\"robust_normalised_count\"] = rob_scaler.fit_transform(london_per_day[['count']])\n",
    "\n",
    "london_per_day.head()"
   ]
  },
  {
   "cell_type": "code",
   "execution_count": 13,
   "metadata": {},
   "outputs": [
    {
     "data": {
      "text/plain": [
       "29213.30297029703"
      ]
     },
     "execution_count": 13,
     "metadata": {},
     "output_type": "execute_result"
    }
   ],
   "source": [
    "london_per_day['count'][london_per_day.is_workday == 1].mean()"
   ]
  },
  {
   "cell_type": "markdown",
   "metadata": {},
   "source": [
    "## DC"
   ]
  },
  {
   "cell_type": "code",
   "execution_count": 14,
   "metadata": {},
   "outputs": [
    {
     "data": {
      "text/html": [
       "<div>\n",
       "<style scoped>\n",
       "    .dataframe tbody tr th:only-of-type {\n",
       "        vertical-align: middle;\n",
       "    }\n",
       "\n",
       "    .dataframe tbody tr th {\n",
       "        vertical-align: top;\n",
       "    }\n",
       "\n",
       "    .dataframe thead th {\n",
       "        text-align: right;\n",
       "    }\n",
       "</style>\n",
       "<table border=\"1\" class=\"dataframe\">\n",
       "  <thead>\n",
       "    <tr style=\"text-align: right;\">\n",
       "      <th></th>\n",
       "      <th>temp</th>\n",
       "      <th>hum</th>\n",
       "      <th>wind</th>\n",
       "      <th>is_workday</th>\n",
       "      <th>count</th>\n",
       "      <th>std_normalised_count</th>\n",
       "      <th>mm_normalised_count</th>\n",
       "      <th>robust_normalised_count</th>\n",
       "    </tr>\n",
       "    <tr>\n",
       "      <th>datetime</th>\n",
       "      <th></th>\n",
       "      <th></th>\n",
       "      <th></th>\n",
       "      <th></th>\n",
       "      <th></th>\n",
       "      <th></th>\n",
       "      <th></th>\n",
       "      <th></th>\n",
       "    </tr>\n",
       "  </thead>\n",
       "  <tbody>\n",
       "    <tr>\n",
       "      <th>2011-01-01</th>\n",
       "      <td>14.110833</td>\n",
       "      <td>80.583333</td>\n",
       "      <td>10.749871</td>\n",
       "      <td>0.0</td>\n",
       "      <td>985</td>\n",
       "      <td>-1.922340</td>\n",
       "      <td>0.046862</td>\n",
       "      <td>-1.342468</td>\n",
       "    </tr>\n",
       "    <tr>\n",
       "      <th>2011-01-02</th>\n",
       "      <td>14.902609</td>\n",
       "      <td>69.608696</td>\n",
       "      <td>16.652122</td>\n",
       "      <td>0.0</td>\n",
       "      <td>801</td>\n",
       "      <td>-2.020910</td>\n",
       "      <td>0.024171</td>\n",
       "      <td>-1.411074</td>\n",
       "    </tr>\n",
       "    <tr>\n",
       "      <th>2011-01-03</th>\n",
       "      <td>8.050909</td>\n",
       "      <td>43.727273</td>\n",
       "      <td>16.636709</td>\n",
       "      <td>1.0</td>\n",
       "      <td>1349</td>\n",
       "      <td>-1.727342</td>\n",
       "      <td>0.091750</td>\n",
       "      <td>-1.206749</td>\n",
       "    </tr>\n",
       "    <tr>\n",
       "      <th>2011-01-04</th>\n",
       "      <td>8.200000</td>\n",
       "      <td>59.043478</td>\n",
       "      <td>10.739809</td>\n",
       "      <td>1.0</td>\n",
       "      <td>1562</td>\n",
       "      <td>-1.613236</td>\n",
       "      <td>0.118017</td>\n",
       "      <td>-1.127330</td>\n",
       "    </tr>\n",
       "    <tr>\n",
       "      <th>2011-01-05</th>\n",
       "      <td>9.305217</td>\n",
       "      <td>43.695652</td>\n",
       "      <td>12.522300</td>\n",
       "      <td>1.0</td>\n",
       "      <td>1600</td>\n",
       "      <td>-1.592880</td>\n",
       "      <td>0.122703</td>\n",
       "      <td>-1.113162</td>\n",
       "    </tr>\n",
       "  </tbody>\n",
       "</table>\n",
       "</div>"
      ],
      "text/plain": [
       "                 temp        hum       wind  is_workday  count  \\\n",
       "datetime                                                         \n",
       "2011-01-01  14.110833  80.583333  10.749871         0.0    985   \n",
       "2011-01-02  14.902609  69.608696  16.652122         0.0    801   \n",
       "2011-01-03   8.050909  43.727273  16.636709         1.0   1349   \n",
       "2011-01-04   8.200000  59.043478  10.739809         1.0   1562   \n",
       "2011-01-05   9.305217  43.695652  12.522300         1.0   1600   \n",
       "\n",
       "            std_normalised_count  mm_normalised_count  robust_normalised_count  \n",
       "datetime                                                                        \n",
       "2011-01-01             -1.922340             0.046862                -1.342468  \n",
       "2011-01-02             -2.020910             0.024171                -1.411074  \n",
       "2011-01-03             -1.727342             0.091750                -1.206749  \n",
       "2011-01-04             -1.613236             0.118017                -1.127330  \n",
       "2011-01-05             -1.592880             0.122703                -1.113162  "
      ]
     },
     "execution_count": 14,
     "metadata": {},
     "output_type": "execute_result"
    }
   ],
   "source": [
    "DC_f = DC[[\"temp\", \"humidity\", \"windspeed\", \"workingday\"]]\n",
    "dc_per_day = DC_f.groupby([DC[\"datetime\"].dt.date]).mean()\n",
    "dc_per_day[\"count\"] = (DC[\"count\"].groupby([DC[\"datetime\"].dt.date]).sum())\n",
    "dc_per_day.rename(columns={\"humidity\": \"hum\", \"windspeed\": \"wind\",'workingday':'is_workday'}, inplace=True)\n",
    "dc_per_day[\"std_normalised_count\"] = std_scaler.fit_transform(dc_per_day[[\"count\"]])\n",
    "dc_per_day[\"mm_normalised_count\"] = mm_scaler.fit_transform(dc_per_day[['count']])\n",
    "dc_per_day[\"robust_normalised_count\"] = rob_scaler.fit_transform(dc_per_day[['count']])\n",
    "\n",
    "dc_per_day.head()"
   ]
  },
  {
   "cell_type": "code",
   "execution_count": 15,
   "metadata": {},
   "outputs": [
    {
     "data": {
      "text/html": [
       "<div>\n",
       "<style scoped>\n",
       "    .dataframe tbody tr th:only-of-type {\n",
       "        vertical-align: middle;\n",
       "    }\n",
       "\n",
       "    .dataframe tbody tr th {\n",
       "        vertical-align: top;\n",
       "    }\n",
       "\n",
       "    .dataframe thead th {\n",
       "        text-align: right;\n",
       "    }\n",
       "</style>\n",
       "<table border=\"1\" class=\"dataframe\">\n",
       "  <thead>\n",
       "    <tr style=\"text-align: right;\">\n",
       "      <th></th>\n",
       "      <th>temp</th>\n",
       "      <th>hum</th>\n",
       "      <th>wind</th>\n",
       "      <th>is_workday</th>\n",
       "      <th>count</th>\n",
       "      <th>std_normalised_count</th>\n",
       "      <th>mm_normalised_count</th>\n",
       "      <th>robust_normalised_count</th>\n",
       "    </tr>\n",
       "  </thead>\n",
       "  <tbody>\n",
       "    <tr>\n",
       "      <th>temp</th>\n",
       "      <td>1.000000</td>\n",
       "      <td>0.146933</td>\n",
       "      <td>-0.163716</td>\n",
       "      <td>0.028408</td>\n",
       "      <td>0.610687</td>\n",
       "      <td>0.610687</td>\n",
       "      <td>0.610687</td>\n",
       "      <td>0.610687</td>\n",
       "    </tr>\n",
       "    <tr>\n",
       "      <th>hum</th>\n",
       "      <td>0.146933</td>\n",
       "      <td>1.000000</td>\n",
       "      <td>-0.305684</td>\n",
       "      <td>-0.014252</td>\n",
       "      <td>-0.077046</td>\n",
       "      <td>-0.077046</td>\n",
       "      <td>-0.077046</td>\n",
       "      <td>-0.077046</td>\n",
       "    </tr>\n",
       "    <tr>\n",
       "      <th>wind</th>\n",
       "      <td>-0.163716</td>\n",
       "      <td>-0.305684</td>\n",
       "      <td>1.000000</td>\n",
       "      <td>0.020647</td>\n",
       "      <td>-0.235932</td>\n",
       "      <td>-0.235932</td>\n",
       "      <td>-0.235932</td>\n",
       "      <td>-0.235932</td>\n",
       "    </tr>\n",
       "    <tr>\n",
       "      <th>is_workday</th>\n",
       "      <td>0.028408</td>\n",
       "      <td>-0.014252</td>\n",
       "      <td>0.020647</td>\n",
       "      <td>1.000000</td>\n",
       "      <td>0.020870</td>\n",
       "      <td>0.020870</td>\n",
       "      <td>0.020870</td>\n",
       "      <td>0.020870</td>\n",
       "    </tr>\n",
       "    <tr>\n",
       "      <th>count</th>\n",
       "      <td>0.610687</td>\n",
       "      <td>-0.077046</td>\n",
       "      <td>-0.235932</td>\n",
       "      <td>0.020870</td>\n",
       "      <td>1.000000</td>\n",
       "      <td>1.000000</td>\n",
       "      <td>1.000000</td>\n",
       "      <td>1.000000</td>\n",
       "    </tr>\n",
       "    <tr>\n",
       "      <th>std_normalised_count</th>\n",
       "      <td>0.610687</td>\n",
       "      <td>-0.077046</td>\n",
       "      <td>-0.235932</td>\n",
       "      <td>0.020870</td>\n",
       "      <td>1.000000</td>\n",
       "      <td>1.000000</td>\n",
       "      <td>1.000000</td>\n",
       "      <td>1.000000</td>\n",
       "    </tr>\n",
       "    <tr>\n",
       "      <th>mm_normalised_count</th>\n",
       "      <td>0.610687</td>\n",
       "      <td>-0.077046</td>\n",
       "      <td>-0.235932</td>\n",
       "      <td>0.020870</td>\n",
       "      <td>1.000000</td>\n",
       "      <td>1.000000</td>\n",
       "      <td>1.000000</td>\n",
       "      <td>1.000000</td>\n",
       "    </tr>\n",
       "    <tr>\n",
       "      <th>robust_normalised_count</th>\n",
       "      <td>0.610687</td>\n",
       "      <td>-0.077046</td>\n",
       "      <td>-0.235932</td>\n",
       "      <td>0.020870</td>\n",
       "      <td>1.000000</td>\n",
       "      <td>1.000000</td>\n",
       "      <td>1.000000</td>\n",
       "      <td>1.000000</td>\n",
       "    </tr>\n",
       "  </tbody>\n",
       "</table>\n",
       "</div>"
      ],
      "text/plain": [
       "                             temp       hum      wind  is_workday     count  \\\n",
       "temp                     1.000000  0.146933 -0.163716    0.028408  0.610687   \n",
       "hum                      0.146933  1.000000 -0.305684   -0.014252 -0.077046   \n",
       "wind                    -0.163716 -0.305684  1.000000    0.020647 -0.235932   \n",
       "is_workday               0.028408 -0.014252  0.020647    1.000000  0.020870   \n",
       "count                    0.610687 -0.077046 -0.235932    0.020870  1.000000   \n",
       "std_normalised_count     0.610687 -0.077046 -0.235932    0.020870  1.000000   \n",
       "mm_normalised_count      0.610687 -0.077046 -0.235932    0.020870  1.000000   \n",
       "robust_normalised_count  0.610687 -0.077046 -0.235932    0.020870  1.000000   \n",
       "\n",
       "                         std_normalised_count  mm_normalised_count  \\\n",
       "temp                                 0.610687             0.610687   \n",
       "hum                                 -0.077046            -0.077046   \n",
       "wind                                -0.235932            -0.235932   \n",
       "is_workday                           0.020870             0.020870   \n",
       "count                                1.000000             1.000000   \n",
       "std_normalised_count                 1.000000             1.000000   \n",
       "mm_normalised_count                  1.000000             1.000000   \n",
       "robust_normalised_count              1.000000             1.000000   \n",
       "\n",
       "                         robust_normalised_count  \n",
       "temp                                    0.610687  \n",
       "hum                                    -0.077046  \n",
       "wind                                   -0.235932  \n",
       "is_workday                              0.020870  \n",
       "count                                   1.000000  \n",
       "std_normalised_count                    1.000000  \n",
       "mm_normalised_count                     1.000000  \n",
       "robust_normalised_count                 1.000000  "
      ]
     },
     "execution_count": 15,
     "metadata": {},
     "output_type": "execute_result"
    }
   ],
   "source": [
    "dc_per_day.corr()"
   ]
  },
  {
   "cell_type": "code",
   "execution_count": 16,
   "metadata": {},
   "outputs": [
    {
     "data": {
      "text/plain": [
       "4516.358620689655"
      ]
     },
     "execution_count": 16,
     "metadata": {},
     "output_type": "execute_result"
    }
   ],
   "source": [
    "dc_per_day['count'][dc_per_day.is_workday == 0].mean()"
   ]
  },
  {
   "cell_type": "markdown",
   "metadata": {},
   "source": [
    "# ALL - CONCAT"
   ]
  },
  {
   "cell_type": "code",
   "execution_count": 17,
   "metadata": {},
   "outputs": [
    {
     "ename": "TypeError",
     "evalue": "got invalid input value of type <class 'xml.etree.ElementTree.Element'>, expected string or Element",
     "output_type": "error",
     "traceback": [
      "\u001b[0;31m---------------------------------------------------------------------------\u001b[0m",
      "\u001b[0;31mTypeError\u001b[0m                                 Traceback (most recent call last)",
      "\u001b[0;32m<ipython-input-17-88bff30a126b>\u001b[0m in \u001b[0;36m<module>\u001b[0;34m\u001b[0m\n\u001b[1;32m      1\u001b[0m \u001b[0mpred_df\u001b[0m \u001b[0;34m=\u001b[0m \u001b[0mpd\u001b[0m\u001b[0;34m.\u001b[0m\u001b[0mconcat\u001b[0m\u001b[0;34m(\u001b[0m\u001b[0;34m[\u001b[0m\u001b[0maustin_per_day\u001b[0m\u001b[0;34m]\u001b[0m\u001b[0;34m,\u001b[0m \u001b[0mignore_index\u001b[0m\u001b[0;34m=\u001b[0m\u001b[0;32mTrue\u001b[0m\u001b[0;34m)\u001b[0m\u001b[0;34m\u001b[0m\u001b[0;34m\u001b[0m\u001b[0m\n\u001b[0;32m----> 2\u001b[0;31m \u001b[0mpred_df\u001b[0m\u001b[0;34m.\u001b[0m\u001b[0mto_excel\u001b[0m\u001b[0;34m(\u001b[0m\u001b[0;34m'toto.xlsx'\u001b[0m\u001b[0;34m)\u001b[0m\u001b[0;34m\u001b[0m\u001b[0;34m\u001b[0m\u001b[0m\n\u001b[0m\u001b[1;32m      3\u001b[0m \u001b[0mpred_df\u001b[0m\u001b[0;34m.\u001b[0m\u001b[0mis_workday\u001b[0m\u001b[0;34m.\u001b[0m\u001b[0mvalue_counts\u001b[0m\u001b[0;34m(\u001b[0m\u001b[0;34m)\u001b[0m\u001b[0;34m\u001b[0m\u001b[0;34m\u001b[0m\u001b[0m\n",
      "\u001b[0;32m~/.local/share/virtualenvs/vilva-CM3l_cGQ/lib/python3.8/site-packages/pandas/core/generic.py\u001b[0m in \u001b[0;36mto_excel\u001b[0;34m(self, excel_writer, sheet_name, na_rep, float_format, columns, header, index, index_label, startrow, startcol, engine, merge_cells, encoding, inf_rep, verbose, freeze_panes)\u001b[0m\n\u001b[1;32m   2248\u001b[0m             \u001b[0minf_rep\u001b[0m\u001b[0;34m=\u001b[0m\u001b[0minf_rep\u001b[0m\u001b[0;34m,\u001b[0m\u001b[0;34m\u001b[0m\u001b[0;34m\u001b[0m\u001b[0m\n\u001b[1;32m   2249\u001b[0m         )\n\u001b[0;32m-> 2250\u001b[0;31m         formatter.write(\n\u001b[0m\u001b[1;32m   2251\u001b[0m             \u001b[0mexcel_writer\u001b[0m\u001b[0;34m,\u001b[0m\u001b[0;34m\u001b[0m\u001b[0;34m\u001b[0m\u001b[0m\n\u001b[1;32m   2252\u001b[0m             \u001b[0msheet_name\u001b[0m\u001b[0;34m=\u001b[0m\u001b[0msheet_name\u001b[0m\u001b[0;34m,\u001b[0m\u001b[0;34m\u001b[0m\u001b[0;34m\u001b[0m\u001b[0m\n",
      "\u001b[0;32m~/.local/share/virtualenvs/vilva-CM3l_cGQ/lib/python3.8/site-packages/pandas/io/formats/excel.py\u001b[0m in \u001b[0;36mwrite\u001b[0;34m(self, writer, sheet_name, startrow, startcol, freeze_panes, engine)\u001b[0m\n\u001b[1;32m    740\u001b[0m         )\n\u001b[1;32m    741\u001b[0m         \u001b[0;32mif\u001b[0m \u001b[0mneed_save\u001b[0m\u001b[0;34m:\u001b[0m\u001b[0;34m\u001b[0m\u001b[0;34m\u001b[0m\u001b[0m\n\u001b[0;32m--> 742\u001b[0;31m             \u001b[0mwriter\u001b[0m\u001b[0;34m.\u001b[0m\u001b[0msave\u001b[0m\u001b[0;34m(\u001b[0m\u001b[0;34m)\u001b[0m\u001b[0;34m\u001b[0m\u001b[0;34m\u001b[0m\u001b[0m\n\u001b[0m",
      "\u001b[0;32m~/.local/share/virtualenvs/vilva-CM3l_cGQ/lib/python3.8/site-packages/pandas/io/excel/_openpyxl.py\u001b[0m in \u001b[0;36msave\u001b[0;34m(self)\u001b[0m\n\u001b[1;32m     42\u001b[0m         \u001b[0mSave\u001b[0m \u001b[0mworkbook\u001b[0m \u001b[0mto\u001b[0m \u001b[0mdisk\u001b[0m\u001b[0;34m.\u001b[0m\u001b[0;34m\u001b[0m\u001b[0;34m\u001b[0m\u001b[0m\n\u001b[1;32m     43\u001b[0m         \"\"\"\n\u001b[0;32m---> 44\u001b[0;31m         \u001b[0;32mreturn\u001b[0m \u001b[0mself\u001b[0m\u001b[0;34m.\u001b[0m\u001b[0mbook\u001b[0m\u001b[0;34m.\u001b[0m\u001b[0msave\u001b[0m\u001b[0;34m(\u001b[0m\u001b[0mself\u001b[0m\u001b[0;34m.\u001b[0m\u001b[0mpath\u001b[0m\u001b[0;34m)\u001b[0m\u001b[0;34m\u001b[0m\u001b[0;34m\u001b[0m\u001b[0m\n\u001b[0m\u001b[1;32m     45\u001b[0m \u001b[0;34m\u001b[0m\u001b[0m\n\u001b[1;32m     46\u001b[0m     \u001b[0;34m@\u001b[0m\u001b[0mclassmethod\u001b[0m\u001b[0;34m\u001b[0m\u001b[0;34m\u001b[0m\u001b[0m\n",
      "\u001b[0;32m~/.local/share/virtualenvs/vilva-CM3l_cGQ/lib/python3.8/site-packages/openpyxl/workbook/workbook.py\u001b[0m in \u001b[0;36msave\u001b[0;34m(self, filename)\u001b[0m\n\u001b[1;32m    406\u001b[0m         \u001b[0;32mif\u001b[0m \u001b[0mself\u001b[0m\u001b[0;34m.\u001b[0m\u001b[0mwrite_only\u001b[0m \u001b[0;32mand\u001b[0m \u001b[0;32mnot\u001b[0m \u001b[0mself\u001b[0m\u001b[0;34m.\u001b[0m\u001b[0mworksheets\u001b[0m\u001b[0;34m:\u001b[0m\u001b[0;34m\u001b[0m\u001b[0;34m\u001b[0m\u001b[0m\n\u001b[1;32m    407\u001b[0m             \u001b[0mself\u001b[0m\u001b[0;34m.\u001b[0m\u001b[0mcreate_sheet\u001b[0m\u001b[0;34m(\u001b[0m\u001b[0;34m)\u001b[0m\u001b[0;34m\u001b[0m\u001b[0;34m\u001b[0m\u001b[0m\n\u001b[0;32m--> 408\u001b[0;31m         \u001b[0msave_workbook\u001b[0m\u001b[0;34m(\u001b[0m\u001b[0mself\u001b[0m\u001b[0;34m,\u001b[0m \u001b[0mfilename\u001b[0m\u001b[0;34m)\u001b[0m\u001b[0;34m\u001b[0m\u001b[0;34m\u001b[0m\u001b[0m\n\u001b[0m\u001b[1;32m    409\u001b[0m \u001b[0;34m\u001b[0m\u001b[0m\n\u001b[1;32m    410\u001b[0m \u001b[0;34m\u001b[0m\u001b[0m\n",
      "\u001b[0;32m~/.local/share/virtualenvs/vilva-CM3l_cGQ/lib/python3.8/site-packages/openpyxl/writer/excel.py\u001b[0m in \u001b[0;36msave_workbook\u001b[0;34m(workbook, filename)\u001b[0m\n\u001b[1;32m    291\u001b[0m     \u001b[0marchive\u001b[0m \u001b[0;34m=\u001b[0m \u001b[0mZipFile\u001b[0m\u001b[0;34m(\u001b[0m\u001b[0mfilename\u001b[0m\u001b[0;34m,\u001b[0m \u001b[0;34m'w'\u001b[0m\u001b[0;34m,\u001b[0m \u001b[0mZIP_DEFLATED\u001b[0m\u001b[0;34m,\u001b[0m \u001b[0mallowZip64\u001b[0m\u001b[0;34m=\u001b[0m\u001b[0;32mTrue\u001b[0m\u001b[0;34m)\u001b[0m\u001b[0;34m\u001b[0m\u001b[0;34m\u001b[0m\u001b[0m\n\u001b[1;32m    292\u001b[0m     \u001b[0mwriter\u001b[0m \u001b[0;34m=\u001b[0m \u001b[0mExcelWriter\u001b[0m\u001b[0;34m(\u001b[0m\u001b[0mworkbook\u001b[0m\u001b[0;34m,\u001b[0m \u001b[0marchive\u001b[0m\u001b[0;34m)\u001b[0m\u001b[0;34m\u001b[0m\u001b[0;34m\u001b[0m\u001b[0m\n\u001b[0;32m--> 293\u001b[0;31m     \u001b[0mwriter\u001b[0m\u001b[0;34m.\u001b[0m\u001b[0msave\u001b[0m\u001b[0;34m(\u001b[0m\u001b[0;34m)\u001b[0m\u001b[0;34m\u001b[0m\u001b[0;34m\u001b[0m\u001b[0m\n\u001b[0m\u001b[1;32m    294\u001b[0m     \u001b[0;32mreturn\u001b[0m \u001b[0;32mTrue\u001b[0m\u001b[0;34m\u001b[0m\u001b[0;34m\u001b[0m\u001b[0m\n\u001b[1;32m    295\u001b[0m \u001b[0;34m\u001b[0m\u001b[0m\n",
      "\u001b[0;32m~/.local/share/virtualenvs/vilva-CM3l_cGQ/lib/python3.8/site-packages/openpyxl/writer/excel.py\u001b[0m in \u001b[0;36msave\u001b[0;34m(self)\u001b[0m\n\u001b[1;32m    273\u001b[0m     \u001b[0;32mdef\u001b[0m \u001b[0msave\u001b[0m\u001b[0;34m(\u001b[0m\u001b[0mself\u001b[0m\u001b[0;34m)\u001b[0m\u001b[0;34m:\u001b[0m\u001b[0;34m\u001b[0m\u001b[0;34m\u001b[0m\u001b[0m\n\u001b[1;32m    274\u001b[0m         \u001b[0;34m\"\"\"Write data into the archive.\"\"\"\u001b[0m\u001b[0;34m\u001b[0m\u001b[0;34m\u001b[0m\u001b[0m\n\u001b[0;32m--> 275\u001b[0;31m         \u001b[0mself\u001b[0m\u001b[0;34m.\u001b[0m\u001b[0mwrite_data\u001b[0m\u001b[0;34m(\u001b[0m\u001b[0;34m)\u001b[0m\u001b[0;34m\u001b[0m\u001b[0;34m\u001b[0m\u001b[0m\n\u001b[0m\u001b[1;32m    276\u001b[0m         \u001b[0mself\u001b[0m\u001b[0;34m.\u001b[0m\u001b[0m_archive\u001b[0m\u001b[0;34m.\u001b[0m\u001b[0mclose\u001b[0m\u001b[0;34m(\u001b[0m\u001b[0;34m)\u001b[0m\u001b[0;34m\u001b[0m\u001b[0;34m\u001b[0m\u001b[0m\n\u001b[1;32m    277\u001b[0m \u001b[0;34m\u001b[0m\u001b[0m\n",
      "\u001b[0;32m~/.local/share/virtualenvs/vilva-CM3l_cGQ/lib/python3.8/site-packages/openpyxl/writer/excel.py\u001b[0m in \u001b[0;36mwrite_data\u001b[0;34m(self)\u001b[0m\n\u001b[1;32m     73\u001b[0m             \u001b[0marchive\u001b[0m\u001b[0;34m.\u001b[0m\u001b[0mwritestr\u001b[0m\u001b[0;34m(\u001b[0m\u001b[0mARC_THEME\u001b[0m\u001b[0;34m,\u001b[0m \u001b[0mtheme_xml\u001b[0m\u001b[0;34m)\u001b[0m\u001b[0;34m\u001b[0m\u001b[0;34m\u001b[0m\u001b[0m\n\u001b[1;32m     74\u001b[0m \u001b[0;34m\u001b[0m\u001b[0m\n\u001b[0;32m---> 75\u001b[0;31m         \u001b[0mself\u001b[0m\u001b[0;34m.\u001b[0m\u001b[0m_write_worksheets\u001b[0m\u001b[0;34m(\u001b[0m\u001b[0;34m)\u001b[0m\u001b[0;34m\u001b[0m\u001b[0;34m\u001b[0m\u001b[0m\n\u001b[0m\u001b[1;32m     76\u001b[0m         \u001b[0mself\u001b[0m\u001b[0;34m.\u001b[0m\u001b[0m_write_chartsheets\u001b[0m\u001b[0;34m(\u001b[0m\u001b[0;34m)\u001b[0m\u001b[0;34m\u001b[0m\u001b[0;34m\u001b[0m\u001b[0m\n\u001b[1;32m     77\u001b[0m         \u001b[0mself\u001b[0m\u001b[0;34m.\u001b[0m\u001b[0m_write_images\u001b[0m\u001b[0;34m(\u001b[0m\u001b[0;34m)\u001b[0m\u001b[0;34m\u001b[0m\u001b[0;34m\u001b[0m\u001b[0m\n",
      "\u001b[0;32m~/.local/share/virtualenvs/vilva-CM3l_cGQ/lib/python3.8/site-packages/openpyxl/writer/excel.py\u001b[0m in \u001b[0;36m_write_worksheets\u001b[0;34m(self)\u001b[0m\n\u001b[1;32m    213\u001b[0m \u001b[0;34m\u001b[0m\u001b[0m\n\u001b[1;32m    214\u001b[0m             \u001b[0mws\u001b[0m\u001b[0;34m.\u001b[0m\u001b[0m_id\u001b[0m \u001b[0;34m=\u001b[0m \u001b[0midx\u001b[0m\u001b[0;34m\u001b[0m\u001b[0;34m\u001b[0m\u001b[0m\n\u001b[0;32m--> 215\u001b[0;31m             \u001b[0mself\u001b[0m\u001b[0;34m.\u001b[0m\u001b[0mwrite_worksheet\u001b[0m\u001b[0;34m(\u001b[0m\u001b[0mws\u001b[0m\u001b[0;34m)\u001b[0m\u001b[0;34m\u001b[0m\u001b[0;34m\u001b[0m\u001b[0m\n\u001b[0m\u001b[1;32m    216\u001b[0m \u001b[0;34m\u001b[0m\u001b[0m\n\u001b[1;32m    217\u001b[0m             \u001b[0;32mif\u001b[0m \u001b[0mws\u001b[0m\u001b[0;34m.\u001b[0m\u001b[0m_drawing\u001b[0m\u001b[0;34m:\u001b[0m\u001b[0;34m\u001b[0m\u001b[0;34m\u001b[0m\u001b[0m\n",
      "\u001b[0;32m~/.local/share/virtualenvs/vilva-CM3l_cGQ/lib/python3.8/site-packages/openpyxl/writer/excel.py\u001b[0m in \u001b[0;36mwrite_worksheet\u001b[0;34m(self, ws)\u001b[0m\n\u001b[1;32m    198\u001b[0m         \u001b[0;32melse\u001b[0m\u001b[0;34m:\u001b[0m\u001b[0;34m\u001b[0m\u001b[0;34m\u001b[0m\u001b[0m\n\u001b[1;32m    199\u001b[0m             \u001b[0mwriter\u001b[0m \u001b[0;34m=\u001b[0m \u001b[0mWorksheetWriter\u001b[0m\u001b[0;34m(\u001b[0m\u001b[0mws\u001b[0m\u001b[0;34m)\u001b[0m\u001b[0;34m\u001b[0m\u001b[0;34m\u001b[0m\u001b[0m\n\u001b[0;32m--> 200\u001b[0;31m             \u001b[0mwriter\u001b[0m\u001b[0;34m.\u001b[0m\u001b[0mwrite\u001b[0m\u001b[0;34m(\u001b[0m\u001b[0;34m)\u001b[0m\u001b[0;34m\u001b[0m\u001b[0;34m\u001b[0m\u001b[0m\n\u001b[0m\u001b[1;32m    201\u001b[0m \u001b[0;34m\u001b[0m\u001b[0m\n\u001b[1;32m    202\u001b[0m         \u001b[0mws\u001b[0m\u001b[0;34m.\u001b[0m\u001b[0m_rels\u001b[0m \u001b[0;34m=\u001b[0m \u001b[0mwriter\u001b[0m\u001b[0;34m.\u001b[0m\u001b[0m_rels\u001b[0m\u001b[0;34m\u001b[0m\u001b[0;34m\u001b[0m\u001b[0m\n",
      "\u001b[0;32m~/.local/share/virtualenvs/vilva-CM3l_cGQ/lib/python3.8/site-packages/openpyxl/worksheet/_writer.py\u001b[0m in \u001b[0;36mwrite\u001b[0;34m(self)\u001b[0m\n\u001b[1;32m    352\u001b[0m         \u001b[0mHigh\u001b[0m \u001b[0mlevel\u001b[0m\u001b[0;34m\u001b[0m\u001b[0;34m\u001b[0m\u001b[0m\n\u001b[1;32m    353\u001b[0m         \"\"\"\n\u001b[0;32m--> 354\u001b[0;31m         \u001b[0mself\u001b[0m\u001b[0;34m.\u001b[0m\u001b[0mwrite_top\u001b[0m\u001b[0;34m(\u001b[0m\u001b[0;34m)\u001b[0m\u001b[0;34m\u001b[0m\u001b[0;34m\u001b[0m\u001b[0m\n\u001b[0m\u001b[1;32m    355\u001b[0m         \u001b[0mself\u001b[0m\u001b[0;34m.\u001b[0m\u001b[0mwrite_rows\u001b[0m\u001b[0;34m(\u001b[0m\u001b[0;34m)\u001b[0m\u001b[0;34m\u001b[0m\u001b[0;34m\u001b[0m\u001b[0m\n\u001b[1;32m    356\u001b[0m         \u001b[0mself\u001b[0m\u001b[0;34m.\u001b[0m\u001b[0mwrite_tail\u001b[0m\u001b[0;34m(\u001b[0m\u001b[0;34m)\u001b[0m\u001b[0;34m\u001b[0m\u001b[0;34m\u001b[0m\u001b[0m\n",
      "\u001b[0;32m~/.local/share/virtualenvs/vilva-CM3l_cGQ/lib/python3.8/site-packages/openpyxl/worksheet/_writer.py\u001b[0m in \u001b[0;36mwrite_top\u001b[0;34m(self)\u001b[0m\n\u001b[1;32m     96\u001b[0m         \u001b[0mcols\u001b[0m\u001b[0;34m\u001b[0m\u001b[0;34m\u001b[0m\u001b[0m\n\u001b[1;32m     97\u001b[0m         \"\"\"\n\u001b[0;32m---> 98\u001b[0;31m         \u001b[0mself\u001b[0m\u001b[0;34m.\u001b[0m\u001b[0mwrite_properties\u001b[0m\u001b[0;34m(\u001b[0m\u001b[0;34m)\u001b[0m\u001b[0;34m\u001b[0m\u001b[0;34m\u001b[0m\u001b[0m\n\u001b[0m\u001b[1;32m     99\u001b[0m         \u001b[0mself\u001b[0m\u001b[0;34m.\u001b[0m\u001b[0mwrite_dimensions\u001b[0m\u001b[0;34m(\u001b[0m\u001b[0;34m)\u001b[0m\u001b[0;34m\u001b[0m\u001b[0;34m\u001b[0m\u001b[0m\n\u001b[1;32m    100\u001b[0m         \u001b[0mself\u001b[0m\u001b[0;34m.\u001b[0m\u001b[0mwrite_views\u001b[0m\u001b[0;34m(\u001b[0m\u001b[0;34m)\u001b[0m\u001b[0;34m\u001b[0m\u001b[0;34m\u001b[0m\u001b[0m\n",
      "\u001b[0;32m~/.local/share/virtualenvs/vilva-CM3l_cGQ/lib/python3.8/site-packages/openpyxl/worksheet/_writer.py\u001b[0m in \u001b[0;36mwrite_properties\u001b[0;34m(self)\u001b[0m\n\u001b[1;32m     58\u001b[0m     \u001b[0;32mdef\u001b[0m \u001b[0mwrite_properties\u001b[0m\u001b[0;34m(\u001b[0m\u001b[0mself\u001b[0m\u001b[0;34m)\u001b[0m\u001b[0;34m:\u001b[0m\u001b[0;34m\u001b[0m\u001b[0;34m\u001b[0m\u001b[0m\n\u001b[1;32m     59\u001b[0m         \u001b[0mprops\u001b[0m \u001b[0;34m=\u001b[0m \u001b[0mself\u001b[0m\u001b[0;34m.\u001b[0m\u001b[0mws\u001b[0m\u001b[0;34m.\u001b[0m\u001b[0msheet_properties\u001b[0m\u001b[0;34m\u001b[0m\u001b[0;34m\u001b[0m\u001b[0m\n\u001b[0;32m---> 60\u001b[0;31m         \u001b[0mself\u001b[0m\u001b[0;34m.\u001b[0m\u001b[0mxf\u001b[0m\u001b[0;34m.\u001b[0m\u001b[0msend\u001b[0m\u001b[0;34m(\u001b[0m\u001b[0mprops\u001b[0m\u001b[0;34m.\u001b[0m\u001b[0mto_tree\u001b[0m\u001b[0;34m(\u001b[0m\u001b[0;34m)\u001b[0m\u001b[0;34m)\u001b[0m\u001b[0;34m\u001b[0m\u001b[0;34m\u001b[0m\u001b[0m\n\u001b[0m\u001b[1;32m     61\u001b[0m \u001b[0;34m\u001b[0m\u001b[0m\n\u001b[1;32m     62\u001b[0m \u001b[0;34m\u001b[0m\u001b[0m\n",
      "\u001b[0;32m~/.local/share/virtualenvs/vilva-CM3l_cGQ/lib/python3.8/site-packages/openpyxl/worksheet/_writer.py\u001b[0m in \u001b[0;36mget_stream\u001b[0;34m(self)\u001b[0m\n\u001b[1;32m    292\u001b[0m                             \u001b[0;32mcontinue\u001b[0m\u001b[0;34m\u001b[0m\u001b[0;34m\u001b[0m\u001b[0m\n\u001b[1;32m    293\u001b[0m                         \u001b[0;32melse\u001b[0m\u001b[0;34m:\u001b[0m\u001b[0;34m\u001b[0m\u001b[0;34m\u001b[0m\u001b[0m\n\u001b[0;32m--> 294\u001b[0;31m                             \u001b[0mxf\u001b[0m\u001b[0;34m.\u001b[0m\u001b[0mwrite\u001b[0m\u001b[0;34m(\u001b[0m\u001b[0mel\u001b[0m\u001b[0;34m)\u001b[0m\u001b[0;34m\u001b[0m\u001b[0;34m\u001b[0m\u001b[0m\n\u001b[0m\u001b[1;32m    295\u001b[0m                 \u001b[0;32mexcept\u001b[0m \u001b[0mGeneratorExit\u001b[0m\u001b[0;34m:\u001b[0m\u001b[0;34m\u001b[0m\u001b[0;34m\u001b[0m\u001b[0m\n\u001b[1;32m    296\u001b[0m                     \u001b[0;32mpass\u001b[0m\u001b[0;34m\u001b[0m\u001b[0;34m\u001b[0m\u001b[0m\n",
      "\u001b[0;32msrc/lxml/serializer.pxi\u001b[0m in \u001b[0;36mlxml.etree._IncrementalFileWriter.write\u001b[0;34m()\u001b[0m\n",
      "\u001b[0;31mTypeError\u001b[0m: got invalid input value of type <class 'xml.etree.ElementTree.Element'>, expected string or Element"
     ]
    }
   ],
   "source": [
    "pred_df = pd.concat([austin_per_day], ignore_index=True)\n",
    "# pred_df.to_excel('toto.xlsx')\n",
    "pred_df.is_workday.value_counts()\n"
   ]
  },
  {
   "cell_type": "code",
   "execution_count": null,
   "metadata": {},
   "outputs": [],
   "source": [
    "pred_df.dropna(inplace=True)"
   ]
  },
  {
   "cell_type": "code",
   "execution_count": null,
   "metadata": {},
   "outputs": [],
   "source": []
  },
  {
   "cell_type": "code",
   "execution_count": null,
   "metadata": {},
   "outputs": [],
   "source": [
    "pred_df.corr()"
   ]
  },
  {
   "cell_type": "code",
   "execution_count": null,
   "metadata": {
    "scrolled": true
   },
   "outputs": [],
   "source": [
    "fig, ax = plt.subplots(figsize=(20, 15))\n",
    "sns.heatmap(pred_df.corr(), annot=True, ax=ax)\n",
    "plt.show()"
   ]
  },
  {
   "cell_type": "markdown",
   "metadata": {},
   "source": [
    "# ==========================="
   ]
  },
  {
   "cell_type": "markdown",
   "metadata": {},
   "source": [
    "# std_normalised_count as  target"
   ]
  },
  {
   "cell_type": "code",
   "execution_count": null,
   "metadata": {},
   "outputs": [],
   "source": [
    "pred_df_2 = pred_df.copy()\n",
    "del pred_df_2['count']\n",
    "del pred_df_2['robust_normalised_count']\n",
    "del pred_df_2['std_normalised_count']\n",
    "y = pred_df_2.pop('mm_normalised_count')\n",
    "X = pred_df_2\n",
    "# london_per_day_cp = london_per_day.copy()\n",
    "# del london_per_day_cp['count']\n",
    "# del london_per_day_cp['robust_normalised_count']\n",
    "# del london_per_day_cp['std_normalised_count']\n",
    "# y = london_per_day_cp.pop('mm_normalised_count')\n",
    "# X = london_per_day_cp"
   ]
  },
  {
   "cell_type": "code",
   "execution_count": null,
   "metadata": {},
   "outputs": [],
   "source": [
    "X_train, X_test, y_train, y_test = train_test_split(\n",
    "    X, y, test_size=0.2, random_state=1)"
   ]
  },
  {
   "cell_type": "code",
   "execution_count": null,
   "metadata": {},
   "outputs": [],
   "source": [
    "X_train = pd.DataFrame(std_scaler.fit_transform(X_train), columns=X.columns)\n",
    "X_test = pd.DataFrame(std_scaler.transform(X_test), columns=X.columns)"
   ]
  },
  {
   "cell_type": "markdown",
   "metadata": {},
   "source": [
    "# Linear regression:"
   ]
  },
  {
   "cell_type": "code",
   "execution_count": null,
   "metadata": {
    "scrolled": true
   },
   "outputs": [],
   "source": [
    "lr = LinearRegression()\n",
    "scores = cross_val_score(lr, X_train, y_train, cv=5)\n",
    "print(\"Cross-validated training scores:\", scores)\n",
    "print(\"Mean cross-validated training score:\", scores.mean())\n",
    "\n",
    "lr.fit(X_train, y_train)\n",
    "print(\"Training Score:\", lr.score(X_train, y_train))\n",
    "print(\"Test Score:\", lr.score(X_test, y_test))"
   ]
  },
  {
   "cell_type": "markdown",
   "metadata": {},
   "source": [
    "# Ridge:"
   ]
  },
  {
   "cell_type": "code",
   "execution_count": null,
   "metadata": {},
   "outputs": [],
   "source": [
    "# Fit RidgeCV model:\n",
    "r_cv = RidgeCV(alphas=np.logspace(-4, 4, 10), cv=5)\n",
    "r_cv.fit(X_train, y_train)\n",
    "# get the optimal alpha:\n",
    "print('Best alpha:', r_cv.alpha_)\n",
    "print('Training score:', r_cv.score(X_train, y_train))\n",
    "print(\"Test Score:\", r_cv.score(X_test, y_test))"
   ]
  },
  {
   "cell_type": "code",
   "execution_count": null,
   "metadata": {
    "scrolled": true
   },
   "outputs": [],
   "source": [
    "rg = Ridge(alpha=r_cv.alpha_)\n",
    "\n",
    "scores = cross_val_score(rg, X_train, y_train, cv=5)\n",
    "print(\"Cross-validated training scores:\", scores)\n",
    "print(\"Mean cross-validated training score:\", scores.mean())\n",
    "\n",
    "rg.fit(X_train, y_train)\n",
    "print(\"Training Score:\", rg.score(X_train, y_train))\n",
    "print(\"Test Score:\", rg.score(X_test, y_test))"
   ]
  },
  {
   "cell_type": "markdown",
   "metadata": {},
   "source": [
    "# Lasso:"
   ]
  },
  {
   "cell_type": "code",
   "execution_count": null,
   "metadata": {},
   "outputs": [],
   "source": [
    "# Fit LassoCV model:\n",
    "l_cv = LassoCV(alphas=np.logspace(-4, 4, 10), cv=5)\n",
    "l_cv.fit(X_train, y_train)\n",
    "# get the optimal alpha\n",
    "print('Best alpha:', l_cv.alpha_)\n",
    "print('Training score:', l_cv.score(X_train, y_train))\n",
    "print(\"Test Score:\", l_cv.score(X_test, y_test))"
   ]
  },
  {
   "cell_type": "code",
   "execution_count": null,
   "metadata": {
    "scrolled": true
   },
   "outputs": [],
   "source": [
    "lasso = Lasso(alpha=l_cv.alpha_)\n",
    "scores = cross_val_score(lasso, X_train, y_train, cv=5, scoring='r2')\n",
    "print(\"Cross-validated training scores:\", scores)\n",
    "print(\"Mean cross-validated training score:\", scores.mean())\n",
    "\n",
    "lasso.fit(X_train, y_train)\n",
    "print(\"Training Score:\", lasso.score(X_train, y_train))\n",
    "print(\"Test Score:\", lasso.score(X_test, y_test))"
   ]
  },
  {
   "cell_type": "code",
   "execution_count": null,
   "metadata": {},
   "outputs": [],
   "source": [
    "df_coef = pd.DataFrame(lasso.coef_, index=X_train.columns,\n",
    "                       columns=['coefficients'])\n",
    "df_coef['coef_abs'] = df_coef.coefficients.abs()\n",
    "df_coef.sort_values(by='coefficients', ascending=False)"
   ]
  },
  {
   "cell_type": "markdown",
   "metadata": {},
   "source": [
    "# ==============================="
   ]
  },
  {
   "cell_type": "markdown",
   "metadata": {},
   "source": [
    "# Classification:"
   ]
  },
  {
   "cell_type": "code",
   "execution_count": null,
   "metadata": {
    "scrolled": false
   },
   "outputs": [],
   "source": [
    "pred_df.head()"
   ]
  },
  {
   "cell_type": "code",
   "execution_count": null,
   "metadata": {},
   "outputs": [],
   "source": [
    "pred_df.sort_values(by='count')"
   ]
  },
  {
   "cell_type": "code",
   "execution_count": null,
   "metadata": {},
   "outputs": [],
   "source": [
    "pred_df[pred_df['count']==pred_df['count'].max()]"
   ]
  },
  {
   "cell_type": "code",
   "execution_count": null,
   "metadata": {},
   "outputs": [],
   "source": [
    "pred_df['count'].min(),pred_df['count'].max(),pred_df['count'].mean(),pred_df['count'].median(),"
   ]
  },
  {
   "cell_type": "code",
   "execution_count": null,
   "metadata": {},
   "outputs": [],
   "source": [
    "pred_df['std_normalised_count'].min(),pred_df['std_normalised_count'].max(),pred_df['std_normalised_count'].mean(),pred_df['std_normalised_count'].median(),"
   ]
  },
  {
   "cell_type": "code",
   "execution_count": null,
   "metadata": {},
   "outputs": [],
   "source": [
    "\n",
    "for val in pred_df['count']:\n",
    "    "
   ]
  }
 ],
 "metadata": {
  "kernelspec": {
   "display_name": "Python 3",
   "language": "python",
   "name": "python3"
  },
  "language_info": {
   "codemirror_mode": {
    "name": "ipython",
    "version": 3
   },
   "file_extension": ".py",
   "mimetype": "text/x-python",
   "name": "python",
   "nbconvert_exporter": "python",
   "pygments_lexer": "ipython3",
   "version": "3.8.0"
  },
  "toc": {
   "base_numbering": 1,
   "nav_menu": {},
   "number_sections": true,
   "sideBar": true,
   "skip_h1_title": false,
   "title_cell": "Table of Contents",
   "title_sidebar": "Contents",
   "toc_cell": false,
   "toc_position": {},
   "toc_section_display": true,
   "toc_window_display": false
  },
  "varInspector": {
   "cols": {
    "lenName": 16,
    "lenType": 16,
    "lenVar": 40
   },
   "kernels_config": {
    "python": {
     "delete_cmd_postfix": "",
     "delete_cmd_prefix": "del ",
     "library": "var_list.py",
     "varRefreshCmd": "print(var_dic_list())"
    },
    "r": {
     "delete_cmd_postfix": ") ",
     "delete_cmd_prefix": "rm(",
     "library": "var_list.r",
     "varRefreshCmd": "cat(var_dic_list()) "
    }
   },
   "types_to_exclude": [
    "module",
    "function",
    "builtin_function_or_method",
    "instance",
    "_Feature"
   ],
   "window_display": false
  }
 },
 "nbformat": 4,
 "nbformat_minor": 2
}
